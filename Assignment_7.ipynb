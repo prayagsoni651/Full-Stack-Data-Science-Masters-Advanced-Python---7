{
 "cells": [
  {
   "cell_type": "code",
   "execution_count": 1,
   "metadata": {},
   "outputs": [
    {
     "name": "stdout",
     "output_type": "stream",
     "text": [
      "Division by zero error occurred\n"
     ]
    }
   ],
   "source": [
    "# Q1. What is the purpose of the try statement?\n",
    "\n",
    "\n",
    "'''\n",
    "The purpose of the try statement in Python is to define a block of code where exceptions may occur. It allows you to catch and handle exceptions gracefully, preventing them from causing your program to terminate abruptly. The try statement is typically followed by one or more except blocks, which specify how to handle different types of exceptions that may occur within the try block.\n",
    "\n",
    "Key Points about the try Statement:\n",
    "Error Handling: The primary purpose of the try statement is error handling. It allows you to anticipate potential errors and specify how to handle them, ensuring that your program can recover from exceptional conditions without crashing.\n",
    "\n",
    "Exception Catching: Inside the try block, you place the code that may raise exceptions. If an exception occurs during the execution of this code, Python looks for an appropriate except block to handle the exception.\n",
    "\n",
    "Exception Propagation: If an exception occurs within the try block and is not caught by any except block within the same try statement, the exception propagates up the call stack to higher levels of the program, looking for an appropriate exception handler.\n",
    "\n",
    "Graceful Error Recovery: By using try statements, you can implement graceful error recovery mechanisms, such as logging errors, displaying error messages to users, retrying operations, or providing fallback mechanisms to maintain program functionality in the presence of errors.\n",
    "'''\n",
    "\n",
    "try:\n",
    "    # Code that may raise exceptions\n",
    "    x = 10 / 0  # Division by zero raises ZeroDivisionError\n",
    "except ZeroDivisionError:\n",
    "    # Handle specific type of exception\n",
    "    print(\"Division by zero error occurred\")\n",
    "except Exception as e:\n",
    "    # Handle other types of exceptions\n",
    "    print(\"An error occurred:\", e)\n"
   ]
  },
  {
   "cell_type": "code",
   "execution_count": 2,
   "metadata": {},
   "outputs": [
    {
     "data": {
      "text/plain": [
       "'\\nThe two most popular variations of the try statement in Python are:\\n\\ntry-except Blocks:\\n\\nThe try-except block is used to catch and handle exceptions that may occur within a block of code. It allows you to specify one or more except blocks that handle specific types of exceptions, enabling you to gracefully recover from errors and prevent them from crashing your program.\\npython\\nCopy code\\ntry:\\n    # Code that may raise exceptions\\n    ...\\nexcept ExceptionType1:\\n    # Handle ExceptionType1\\n    ...\\nexcept ExceptionType2 as e:\\n    # Handle ExceptionType2 and access the exception object\\n    ...\\ntry-finally Blocks:\\n\\nThe try-finally block is used to ensure that certain cleanup or finalization actions are executed regardless of whether an exception occurs within the try block. The code within the finally block is guaranteed to be executed before the block is exited, even if an exception occurs.\\npython\\nCopy code\\ntry:\\n    # Code that may raise exceptions\\n    ...\\nfinally:\\n    # Cleanup or finalization actions\\n    ...\\nThe finally block is commonly used for releasing resources, closing files, or performing cleanup tasks that must be executed regardless of whether an exception occurs.\\n\\n'"
      ]
     },
     "execution_count": 2,
     "metadata": {},
     "output_type": "execute_result"
    }
   ],
   "source": [
    "#Q2. What are the two most popular try statement variations?\n",
    "\n",
    "'''\n",
    "The two most popular variations of the try statement in Python are:\n",
    "\n",
    "try-except Blocks:\n",
    "\n",
    "The try-except block is used to catch and handle exceptions that may occur within a block of code. It allows you to specify one or more except blocks that handle specific types of exceptions, enabling you to gracefully recover from errors and prevent them from crashing your program.\n",
    "python\n",
    "Copy code\n",
    "try:\n",
    "    # Code that may raise exceptions\n",
    "    ...\n",
    "except ExceptionType1:\n",
    "    # Handle ExceptionType1\n",
    "    ...\n",
    "except ExceptionType2 as e:\n",
    "    # Handle ExceptionType2 and access the exception object\n",
    "    ...\n",
    "try-finally Blocks:\n",
    "\n",
    "The try-finally block is used to ensure that certain cleanup or finalization actions are executed regardless of whether an exception occurs within the try block. The code within the finally block is guaranteed to be executed before the block is exited, even if an exception occurs.\n",
    "python\n",
    "Copy code\n",
    "try:\n",
    "    # Code that may raise exceptions\n",
    "    ...\n",
    "finally:\n",
    "    # Cleanup or finalization actions\n",
    "    ...\n",
    "The finally block is commonly used for releasing resources, closing files, or performing cleanup tasks that must be executed regardless of whether an exception occurs.\n",
    "\n",
    "'''"
   ]
  },
  {
   "cell_type": "code",
   "execution_count": 3,
   "metadata": {},
   "outputs": [
    {
     "ename": "ValueError",
     "evalue": "Invalid input value",
     "output_type": "error",
     "traceback": [
      "\u001b[1;31m---------------------------------------------------------------------------\u001b[0m",
      "\u001b[1;31mValueError\u001b[0m                                Traceback (most recent call last)",
      "Cell \u001b[1;32mIn[3], line 16\u001b[0m\n\u001b[0;32m      3\u001b[0m \u001b[38;5;124;03m'''\u001b[39;00m\n\u001b[0;32m      4\u001b[0m \u001b[38;5;124;03mThe raise statement in Python is used to explicitly raise exceptions at specific points in your code. It allows you to signal that an exceptional condition has occurred and trigger the corresponding exception handling mechanism. The raise statement can be used to raise built-in exceptions or custom exceptions defined by subclassing the Exception class.\u001b[39;00m\n\u001b[0;32m      5\u001b[0m \n\u001b[1;32m   (...)\u001b[0m\n\u001b[0;32m     13\u001b[0m \u001b[38;5;124;03mError Propagation: Raised exceptions propagate up the call stack until they are caught by an appropriate exception handler. This allows you to raise exceptions in one part of your code and handle them in another part, providing a flexible and modular approach to error handling.\u001b[39;00m\n\u001b[0;32m     14\u001b[0m \u001b[38;5;124;03m'''\u001b[39;00m\n\u001b[0;32m     15\u001b[0m \u001b[38;5;66;03m# Example 1: Raising a built-in exception\u001b[39;00m\n\u001b[1;32m---> 16\u001b[0m \u001b[38;5;28;01mraise\u001b[39;00m \u001b[38;5;167;01mValueError\u001b[39;00m(\u001b[38;5;124m\"\u001b[39m\u001b[38;5;124mInvalid input value\u001b[39m\u001b[38;5;124m\"\u001b[39m)\n\u001b[0;32m     18\u001b[0m \u001b[38;5;66;03m# Example 2: Raising a custom exception\u001b[39;00m\n\u001b[0;32m     19\u001b[0m \u001b[38;5;28;01mclass\u001b[39;00m \u001b[38;5;21;01mCustomError\u001b[39;00m(\u001b[38;5;167;01mException\u001b[39;00m):\n",
      "\u001b[1;31mValueError\u001b[0m: Invalid input value"
     ]
    }
   ],
   "source": [
    "# Q3. What is the purpose of the raise statement?\n",
    "\n",
    "'''\n",
    "The raise statement in Python is used to explicitly raise exceptions at specific points in your code. It allows you to signal that an exceptional condition has occurred and trigger the corresponding exception handling mechanism. The raise statement can be used to raise built-in exceptions or custom exceptions defined by subclassing the Exception class.\n",
    "\n",
    "Key Points about the raise Statement:\n",
    "Exception Signaling: The primary purpose of the raise statement is to signal that an exceptional condition has occurred in your code. It allows you to raise exceptions programmatically to handle unexpected situations or errors gracefully.\n",
    "\n",
    "Explicit Exception Generation: By using the raise statement, you can generate exceptions explicitly at specific points in your code where exceptional conditions are detected. This enables you to control when and where exceptions are raised, providing fine-grained error handling.\n",
    "\n",
    "Built-in and Custom Exceptions: You can raise both built-in exceptions provided by Python's standard library and custom exceptions defined by subclassing the Exception class. This allows you to choose the appropriate exception type to represent the exceptional condition you want to raise.\n",
    "\n",
    "Error Propagation: Raised exceptions propagate up the call stack until they are caught by an appropriate exception handler. This allows you to raise exceptions in one part of your code and handle them in another part, providing a flexible and modular approach to error handling.\n",
    "'''\n",
    "# Example 1: Raising a built-in exception\n",
    "raise ValueError(\"Invalid input value\")\n",
    "\n",
    "# Example 2: Raising a custom exception\n",
    "class CustomError(Exception):\n",
    "    pass\n",
    "\n",
    "raise CustomError(\"Custom error message\")\n",
    "\n"
   ]
  },
  {
   "cell_type": "code",
   "execution_count": 4,
   "metadata": {},
   "outputs": [
    {
     "ename": "AssertionError",
     "evalue": "y must be non-negative",
     "output_type": "error",
     "traceback": [
      "\u001b[1;31m---------------------------------------------------------------------------\u001b[0m",
      "\u001b[1;31mAssertionError\u001b[0m                            Traceback (most recent call last)",
      "Cell \u001b[1;32mIn[4], line 19\u001b[0m\n\u001b[0;32m     17\u001b[0m \u001b[38;5;66;03m# Example 2: Assertion with optional error message\u001b[39;00m\n\u001b[0;32m     18\u001b[0m y \u001b[38;5;241m=\u001b[39m \u001b[38;5;241m-\u001b[39m\u001b[38;5;241m5\u001b[39m\n\u001b[1;32m---> 19\u001b[0m \u001b[38;5;28;01massert\u001b[39;00m y \u001b[38;5;241m>\u001b[39m\u001b[38;5;241m=\u001b[39m \u001b[38;5;241m0\u001b[39m, \u001b[38;5;124m\"\u001b[39m\u001b[38;5;124my must be non-negative\u001b[39m\u001b[38;5;124m\"\u001b[39m  \u001b[38;5;66;03m# Raises AssertionError with specified error message\u001b[39;00m\n",
      "\u001b[1;31mAssertionError\u001b[0m: y must be non-negative"
     ]
    }
   ],
   "source": [
    "# Q4. What does the assert statement do, and what other statement is it like?\n",
    "\n",
    "'''The assert statement in Python is used as a debugging aid to test whether a given condition evaluates to True. If the condition is False, the assert statement raises an AssertionError exception with an optional error message. The assert statement is typically used to validate assumptions and check for conditions that should always be true during the execution of the program.\n",
    "\n",
    "Key Points about the assert Statement:\n",
    "Debugging Aid: The primary purpose of the assert statement is to help identify bugs and validate assumptions in your code during development and debugging.\n",
    "\n",
    "Condition Testing: The assert statement tests a specified condition, and if the condition evaluates to False, it raises an AssertionError exception.\n",
    "\n",
    "Optional Error Message: You can provide an optional error message after the condition in the assert statement. This message is displayed when the condition evaluates to False, providing additional information about the failed assertion.\n",
    "\n",
    "Enabled by Default in Debug Mode: By default, assertions are enabled during debugging but are ignored in optimized (production) code. However, you can enable assertions in optimized code by passing the -O or -OO command-line option to the Python interpreter.'''\n",
    "# Example 1: Basic usage of the assert statement\n",
    "x = 10\n",
    "assert x > 0, \"x should be positive\"  # Raises AssertionError if condition is False\n",
    "\n",
    "# Example 2: Assertion with optional error message\n",
    "y = -5\n",
    "assert y >= 0, \"y must be non-negative\"  # Raises AssertionError with specified error message\n",
    "\n",
    "\n"
   ]
  },
  {
   "cell_type": "code",
   "execution_count": 5,
   "metadata": {},
   "outputs": [
    {
     "ename": "FileNotFoundError",
     "evalue": "[Errno 2] No such file or directory: 'example.txt'",
     "output_type": "error",
     "traceback": [
      "\u001b[1;31m---------------------------------------------------------------------------\u001b[0m",
      "\u001b[1;31mFileNotFoundError\u001b[0m                         Traceback (most recent call last)",
      "Cell \u001b[1;32mIn[5], line 15\u001b[0m\n\u001b[0;32m      3\u001b[0m \u001b[38;5;124;03m'''The with statement in Python is used to simplify the management of resources that need to be explicitly initialized and cleaned up. It ensures that resources are properly released, even in the presence of exceptions or errors, by using a context manager. The as keyword in the with statement is used to assign the result of the context manager to a variable for further use within the block.\u001b[39;00m\n\u001b[0;32m      4\u001b[0m \n\u001b[0;32m      5\u001b[0m \u001b[38;5;124;03mKey Points about the with/as Argument:\u001b[39;00m\n\u001b[1;32m   (...)\u001b[0m\n\u001b[0;32m     11\u001b[0m \n\u001b[0;32m     12\u001b[0m \u001b[38;5;124;03mOptional Assignment with as: The as keyword in the with statement is optional but allows you to assign the result of the context manager to a variable. This variable can then be used within the block to refer to the resource or the context manager itself.'''\u001b[39;00m\n\u001b[0;32m     14\u001b[0m \u001b[38;5;66;03m# Example: Using the with statement to open and automatically close a file\u001b[39;00m\n\u001b[1;32m---> 15\u001b[0m \u001b[38;5;28;01mwith\u001b[39;00m \u001b[38;5;28;43mopen\u001b[39;49m\u001b[43m(\u001b[49m\u001b[38;5;124;43m\"\u001b[39;49m\u001b[38;5;124;43mexample.txt\u001b[39;49m\u001b[38;5;124;43m\"\u001b[39;49m\u001b[43m,\u001b[49m\u001b[43m \u001b[49m\u001b[38;5;124;43m\"\u001b[39;49m\u001b[38;5;124;43mr\u001b[39;49m\u001b[38;5;124;43m\"\u001b[39;49m\u001b[43m)\u001b[49m \u001b[38;5;28;01mas\u001b[39;00m file:\n\u001b[0;32m     16\u001b[0m     \u001b[38;5;66;03m# Perform operations on the file\u001b[39;00m\n\u001b[0;32m     17\u001b[0m     data \u001b[38;5;241m=\u001b[39m file\u001b[38;5;241m.\u001b[39mread()\n\u001b[0;32m     18\u001b[0m     \u001b[38;5;28mprint\u001b[39m(data)\n",
      "File \u001b[1;32m~\\AppData\\Roaming\\Python\\Python312\\site-packages\\IPython\\core\\interactiveshell.py:310\u001b[0m, in \u001b[0;36m_modified_open\u001b[1;34m(file, *args, **kwargs)\u001b[0m\n\u001b[0;32m    303\u001b[0m \u001b[38;5;28;01mif\u001b[39;00m file \u001b[38;5;129;01min\u001b[39;00m {\u001b[38;5;241m0\u001b[39m, \u001b[38;5;241m1\u001b[39m, \u001b[38;5;241m2\u001b[39m}:\n\u001b[0;32m    304\u001b[0m     \u001b[38;5;28;01mraise\u001b[39;00m \u001b[38;5;167;01mValueError\u001b[39;00m(\n\u001b[0;32m    305\u001b[0m         \u001b[38;5;124mf\u001b[39m\u001b[38;5;124m\"\u001b[39m\u001b[38;5;124mIPython won\u001b[39m\u001b[38;5;124m'\u001b[39m\u001b[38;5;124mt let you open fd=\u001b[39m\u001b[38;5;132;01m{\u001b[39;00mfile\u001b[38;5;132;01m}\u001b[39;00m\u001b[38;5;124m by default \u001b[39m\u001b[38;5;124m\"\u001b[39m\n\u001b[0;32m    306\u001b[0m         \u001b[38;5;124m\"\u001b[39m\u001b[38;5;124mas it is likely to crash IPython. If you know what you are doing, \u001b[39m\u001b[38;5;124m\"\u001b[39m\n\u001b[0;32m    307\u001b[0m         \u001b[38;5;124m\"\u001b[39m\u001b[38;5;124myou can use builtins\u001b[39m\u001b[38;5;124m'\u001b[39m\u001b[38;5;124m open.\u001b[39m\u001b[38;5;124m\"\u001b[39m\n\u001b[0;32m    308\u001b[0m     )\n\u001b[1;32m--> 310\u001b[0m \u001b[38;5;28;01mreturn\u001b[39;00m \u001b[43mio_open\u001b[49m\u001b[43m(\u001b[49m\u001b[43mfile\u001b[49m\u001b[43m,\u001b[49m\u001b[43m \u001b[49m\u001b[38;5;241;43m*\u001b[39;49m\u001b[43margs\u001b[49m\u001b[43m,\u001b[49m\u001b[43m \u001b[49m\u001b[38;5;241;43m*\u001b[39;49m\u001b[38;5;241;43m*\u001b[39;49m\u001b[43mkwargs\u001b[49m\u001b[43m)\u001b[49m\n",
      "\u001b[1;31mFileNotFoundError\u001b[0m: [Errno 2] No such file or directory: 'example.txt'"
     ]
    }
   ],
   "source": [
    "# Q5. What is the purpose of the with/as argument, and what other statement is it like?\n",
    "\n",
    "'''The with statement in Python is used to simplify the management of resources that need to be explicitly initialized and cleaned up. It ensures that resources are properly released, even in the presence of exceptions or errors, by using a context manager. The as keyword in the with statement is used to assign the result of the context manager to a variable for further use within the block.\n",
    "\n",
    "Key Points about the with/as Argument:\n",
    "Resource Management: The primary purpose of the with statement is resource management, particularly for resources that require initialization and cleanup, such as files, network connections, or database connections.\n",
    "\n",
    "Context Managers: The with statement works with context managers, which are objects that implement the __enter__ and __exit__ methods. The __enter__ method initializes the resource, and the __exit__ method cleans up the resource when the block exits, even if an exception occurs.\n",
    "\n",
    "Automatic Cleanup: When using the with statement, the resource is automatically released at the end of the block, regardless of whether an exception occurs within the block. This ensures proper cleanup and prevents resource leaks.\n",
    "\n",
    "Optional Assignment with as: The as keyword in the with statement is optional but allows you to assign the result of the context manager to a variable. This variable can then be used within the block to refer to the resource or the context manager itself.'''\n",
    "\n",
    "# Example: Using the with statement to open and automatically close a file\n",
    "with open(\"example.txt\", \"r\") as file:\n",
    "    # Perform operations on the file\n",
    "    data = file.read()\n",
    "    print(data)\n",
    "# File is automatically closed when the block exits\n",
    "\n",
    "# Example: Custom context manager with __enter__ and __exit__ methods\n",
    "class CustomResource:\n",
    "    def __enter__(self):\n",
    "        # Initialize resource\n",
    "        print(\"Initializing resource\")\n",
    "        return self\n",
    "\n",
    "    def __exit__(self, exc_type, exc_value, traceback):\n",
    "        # Cleanup resource\n",
    "        print(\"Cleaning up resource\")\n",
    "\n",
    "# Using the custom context manager with the with statement\n",
    "with CustomResource() as resource:\n",
    "    # Perform operations using the resource\n",
    "    print(\"Using resource\")\n"
   ]
  },
  {
   "cell_type": "code",
   "execution_count": null,
   "metadata": {},
   "outputs": [],
   "source": []
  }
 ],
 "metadata": {
  "kernelspec": {
   "display_name": "Python 3",
   "language": "python",
   "name": "python3"
  },
  "language_info": {
   "codemirror_mode": {
    "name": "ipython",
    "version": 3
   },
   "file_extension": ".py",
   "mimetype": "text/x-python",
   "name": "python",
   "nbconvert_exporter": "python",
   "pygments_lexer": "ipython3",
   "version": "3.12.3"
  }
 },
 "nbformat": 4,
 "nbformat_minor": 2
}
